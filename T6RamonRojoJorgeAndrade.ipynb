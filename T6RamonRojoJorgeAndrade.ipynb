{
 "cells": [
  {
   "cell_type": "markdown",
   "id": "eb7578dd",
   "metadata": {},
   "source": [
    "<img style=\"float: left; margin: 30px 15px 15px 15px;\" src=\"https://encrypted-tbn0.gstatic.com/images?q=tbn:ANd9GcTFzQj91sOlkeDFkg5HDbjtR4QJYmLXkfMNig&usqp=CAU\" width=\"400\" height=\"500\" /> \n",
    "    \n",
    "    \n",
    "### <font color='navy'> Simulación matemática. \n",
    "\n",
    "**Nombres:** Jorge Emilio Andrade Michel, Ramón Rojo Villalobos.\n",
    "\n",
    "**Fecha:** 04 de octubre del 2023.\n",
    "\n",
    "**Expediente** : 739973, 744371.\n",
    "    \n",
    "**Profesor:** Oscar David Jaramillo Zuluaga.\n",
    "\n",
    "**Link de GitHub:** https://github.com/RamonRojoVi/Tarea-5\n",
    "# Tarea 6: Integración Montecarlo 2"
   ]
  },
  {
   "cell_type": "markdown",
   "id": "f5d507e3",
   "metadata": {},
   "source": [
    "## TAREA 6\n",
    "1. Aproximar el área de la región descrita por\n",
    "\n",
    "$$x^2+2y^2\\leq-2x+8y-7$$\n",
    "\n",
    "Poner los resultados en una tabla cuyas filas correspondan a la cantidad de términos utilizados en la aproximación (usar 1, 10, 100, 1000, 10000 y 100000 términos) y en las columnas el valor de aproximación y el error relativo.\n",
    "\n",
    "Definir unos límites adecuados $a_1$, $b_1$, $a_2$ y $b_2$, para la región $R=\\left[a_1,b_1\\right]\\times\\left[a_2,b_2\\right]$\n"
   ]
  },
  {
   "cell_type": "markdown",
   "id": "ff07963f",
   "metadata": {},
   "source": [
    "#### Código Jorge"
   ]
  },
  {
   "cell_type": "code",
   "execution_count": 3,
   "id": "1a2e3417",
   "metadata": {},
   "outputs": [
    {
     "data": {
      "text/html": [
       "<div>\n",
       "<style scoped>\n",
       "    .dataframe tbody tr th:only-of-type {\n",
       "        vertical-align: middle;\n",
       "    }\n",
       "\n",
       "    .dataframe tbody tr th {\n",
       "        vertical-align: top;\n",
       "    }\n",
       "\n",
       "    .dataframe thead th {\n",
       "        text-align: right;\n",
       "    }\n",
       "</style>\n",
       "<table border=\"1\" class=\"dataframe\">\n",
       "  <thead>\n",
       "    <tr style=\"text-align: right;\">\n",
       "      <th></th>\n",
       "      <th>Aproximación</th>\n",
       "      <th>Error Relativo %</th>\n",
       "    </tr>\n",
       "  </thead>\n",
       "  <tbody>\n",
       "    <tr>\n",
       "      <th>1</th>\n",
       "      <td>0.0</td>\n",
       "      <td>102.145923</td>\n",
       "    </tr>\n",
       "    <tr>\n",
       "      <th>10</th>\n",
       "      <td>0.0</td>\n",
       "      <td>99.710597</td>\n",
       "    </tr>\n",
       "    <tr>\n",
       "      <th>100</th>\n",
       "      <td>6.0</td>\n",
       "      <td>33.76652</td>\n",
       "    </tr>\n",
       "    <tr>\n",
       "      <th>1000</th>\n",
       "      <td>5.1</td>\n",
       "      <td>17.311111</td>\n",
       "    </tr>\n",
       "    <tr>\n",
       "      <th>10000</th>\n",
       "      <td>4.55</td>\n",
       "      <td>3.874747</td>\n",
       "    </tr>\n",
       "    <tr>\n",
       "      <th>100000</th>\n",
       "      <td>4.456</td>\n",
       "      <td>0.659091</td>\n",
       "    </tr>\n",
       "  </tbody>\n",
       "</table>\n",
       "</div>"
      ],
      "text/plain": [
       "       Aproximación Error Relativo %\n",
       "1               0.0       102.145923\n",
       "10              0.0        99.710597\n",
       "100             6.0         33.76652\n",
       "1000            5.1        17.311111\n",
       "10000          4.55         3.874747\n",
       "100000        4.456         0.659091"
      ]
     },
     "execution_count": 3,
     "metadata": {},
     "output_type": "execute_result"
    }
   ],
   "source": [
    "#Función\n",
    "def region(x, y):\n",
    "    return x**2 + 2*y**2 + 2*x - 8*y + 7 <= 0\n",
    "\n",
    "#Función montecarlo2\n",
    "def montecarlo2(region, a1, b1, a2, b2, N):\n",
    "    AR = (b1-a1)*(b2-a2)\n",
    "    x = np.random.uniform(a1, b1, N)\n",
    "    y = np.random.uniform(a2, b2, N)\n",
    "    bi = region(x, y)\n",
    "    AD_approx = AR*np.mean(bi)\n",
    "    return AD_approx\n",
    "\n",
    "import pandas as pd\n",
    "import numpy as np\n",
    "\n",
    "a1, b1, a2, b2 = -5, 5, -5, 5\n",
    "N = [1, 10, 100, 1000, 10000, 100000]\n",
    "\n",
    "tabla_resultado = pd.DataFrame(index=N, columns=['Aproximación', 'Error Relativo %'])\n",
    "\n",
    "for n in N:\n",
    "    aprox = montecarlo2(region, a1, b1, a2, b2, n)\n",
    "    # Aquí, como no se tiene un valor exacto del área, el error relativo se basa en la mejor aproximación \n",
    "    # (con el mayor N). Este es solo un método de estimar el error y puede no ser el más adecuado para todas las aplicaciones.\n",
    "    error = 100 * abs(aprox - montecarlo2(region, a1, b1, a2, b2, max(N))) / montecarlo2(region, a1, b1, a2, b2, max(N))\n",
    "    \n",
    "    tabla_resultado.loc[n, 'Aproximación'] = aprox\n",
    "    tabla_resultado.loc[n, 'Error Relativo %'] = error\n",
    "\n",
    "tabla_resultado\n"
   ]
  },
  {
   "cell_type": "code",
   "execution_count": 4,
   "id": "1409103a",
   "metadata": {},
   "outputs": [
    {
     "data": {
      "image/png": "[encoded data removed]",
      "text/plain": [
       "<Figure size 800x800 with 1 Axes>"
      ]
     },
     "metadata": {},
     "output_type": "display_data"
    }
   ],
   "source": [
    "import numpy as np\n",
    "import matplotlib.pyplot as plt\n",
    "\n",
    "# Definimos un grid de puntos\n",
    "x = np.linspace(-5, 5, 400)\n",
    "y = np.linspace(-5, 5, 400)\n",
    "X, Y = np.meshgrid(x, y)\n",
    "\n",
    "# Evaluar la desigualdad\n",
    "Z = X**2 + 2*Y**2 + 2*X - 8*Y + 7\n",
    "\n",
    "# Crear la gráfica\n",
    "plt.figure(figsize=(8, 8))\n",
    "plt.contourf(X, Y, Z, levels=[-np.inf, 0], colors='lightblue', alpha=0.5)  # Región sombreada\n",
    "plt.contour(X, Y, Z, levels=[0], colors='black')  # Borde de la región\n",
    "\n",
    "plt.title('Gráfica de la desigualdad $x^2 + 2y^2 \\leq -2x + 8y - 7$')\n",
    "plt.xlabel('x')\n",
    "plt.ylabel('y')\n",
    "plt.grid(True)\n",
    "plt.axhline(0, color='black',linewidth=0.5)\n",
    "plt.axvline(0, color='black',linewidth=0.5)\n",
    "plt.show()"
   ]
  },
  {
   "cell_type": "markdown",
   "id": "0899b28f",
   "metadata": {},
   "source": [
    "#### Conclusión de resultados\n",
    "Los resultados nos arrojaron que al intentar aproximar el área de una región específica mediante el método Monte Carlo, observamos que la precisión aumenta con el número de puntos utilizados en la simulación. Empezando con un error relativo masivo de 102.145% con solo un punto, el error se redujo drásticamente a 0.659% cuando se usaron 100.000 puntos. Esto resalta la eficacia del método Monte Carlo para estimaciones: mientras más puntos se utilicen, más cercana será la aproximación al valor real, aunque siempre habrá un cierto grado de error debido a la naturaleza aleatoria del método."
   ]
  },
  {
   "cell_type": "markdown",
   "id": "a9ec2f4a",
   "metadata": {},
   "source": [
    "#### Código Ramón"
   ]
  },
  {
   "cell_type": "code",
   "execution_count": 8,
   "id": "df7edc37",
   "metadata": {},
   "outputs": [
    {
     "data": {
      "text/html": [
       "<div>\n",
       "<style scoped>\n",
       "    .dataframe tbody tr th:only-of-type {\n",
       "        vertical-align: middle;\n",
       "    }\n",
       "\n",
       "    .dataframe tbody tr th {\n",
       "        vertical-align: top;\n",
       "    }\n",
       "\n",
       "    .dataframe thead th {\n",
       "        text-align: right;\n",
       "    }\n",
       "</style>\n",
       "<table border=\"1\" class=\"dataframe\">\n",
       "  <thead>\n",
       "    <tr style=\"text-align: right;\">\n",
       "      <th></th>\n",
       "      <th>Aproximación del Área</th>\n",
       "      <th>Error Relativo</th>\n",
       "    </tr>\n",
       "  </thead>\n",
       "  <tbody>\n",
       "    <tr>\n",
       "      <th>1</th>\n",
       "      <td>5.656854</td>\n",
       "      <td>0.099686</td>\n",
       "    </tr>\n",
       "    <tr>\n",
       "      <th>10</th>\n",
       "      <td>3.959798</td>\n",
       "      <td>0.369780</td>\n",
       "    </tr>\n",
       "    <tr>\n",
       "      <th>100</th>\n",
       "      <td>4.525483</td>\n",
       "      <td>0.279749</td>\n",
       "    </tr>\n",
       "    <tr>\n",
       "      <th>1000</th>\n",
       "      <td>4.621650</td>\n",
       "      <td>0.264443</td>\n",
       "    </tr>\n",
       "    <tr>\n",
       "      <th>10000</th>\n",
       "      <td>4.444025</td>\n",
       "      <td>0.292713</td>\n",
       "    </tr>\n",
       "    <tr>\n",
       "      <th>100000</th>\n",
       "      <td>4.445213</td>\n",
       "      <td>0.292524</td>\n",
       "    </tr>\n",
       "  </tbody>\n",
       "</table>\n",
       "</div>"
      ],
      "text/plain": [
       "        Aproximación del Área  Error Relativo\n",
       "1                    5.656854        0.099686\n",
       "10                   3.959798        0.369780\n",
       "100                  4.525483        0.279749\n",
       "1000                 4.621650        0.264443\n",
       "10000                4.444025        0.292713\n",
       "100000               4.445213        0.292524"
      ]
     },
     "execution_count": 8,
     "metadata": {},
     "output_type": "execute_result"
    }
   ],
   "source": [
    "import numpy as np\n",
    "import pandas as pd\n",
    "\n",
    "# Función para verificar si un punto está dentro de la región\n",
    "def esta_dentro(x, y):\n",
    "    return (x + 1)**2 + 2*(y - 4)**2 <= 2\n",
    "\n",
    "# Número de términos utilizados en la aproximación\n",
    "num_terminos = [1, 10, 100, 1000, 10000, 100000]\n",
    "\n",
    "# Resultados (valor de aproximación y error relativo)\n",
    "resultados = []\n",
    "\n",
    "# Bucle a través de diferentes números de términos\n",
    "for n in num_terminos:\n",
    "    # Generar puntos aleatorios dentro del rango adecuado\n",
    "    x = np.random.uniform(-np.sqrt(2) - 1, np.sqrt(2) - 1, n)\n",
    "    y = np.random.uniform(3, 5, n)\n",
    "    \n",
    "    # Contar cuántos puntos están dentro de la región\n",
    "    puntos_dentro = sum([1 for i in range(n) if esta_dentro(x[i], y[i])])\n",
    "    \n",
    "    # Calcular el área aproximada\n",
    "    area_aproximada = puntos_dentro / n * (2 * np.sqrt(2)) * (2)\n",
    "    \n",
    "    # Calcular el error relativo\n",
    "    error_relativo = abs(area_aproximada - 6.2832) / 6.2832\n",
    "    \n",
    "    # Agregar resultados a la lista\n",
    "    resultados.append([area_aproximada, error_relativo])\n",
    "\n",
    "# Crear un DataFrame para mostrar los resultados\n",
    "df_resultados = pd.DataFrame(resultados, columns=[\"Aproximación del Área\", \"Error Relativo\"], index=num_terminos)\n",
    "\n",
    "# Mostrar los resultados en una tabla\n",
    "df_resultados\n"
   ]
  },
  {
   "cell_type": "code",
   "execution_count": 12,
   "id": "1f3ff8cb",
   "metadata": {},
   "outputs": [
    {
     "data": {
      "image/png": "[encoded data removed]",
      "text/plain": [
       "<Figure size 800x600 with 1 Axes>"
      ]
     },
     "metadata": {},
     "output_type": "display_data"
    }
   ],
   "source": [
    "import numpy as np\n",
    "import matplotlib.pyplot as plt\n",
    "\n",
    "# Definición de la función de la elipse\n",
    "def f(x,y):\n",
    "    return x**2 + 2*y**2 + 2*x - 8*y + 7\n",
    "\n",
    "# Crear un meshgrid para graficar la elipse\n",
    "x = np.linspace(-5, 5, 400)\n",
    "y = np.linspace(-5, 5, 400)\n",
    "X, Y = np.meshgrid(x, y)\n",
    "Z = f(X, Y)\n",
    "\n",
    "# Graficar\n",
    "plt.figure(figsize=(8, 6))\n",
    "plt.contour(X, Y, Z, levels=[0], colors='g') \n",
    "\n",
    "\n",
    "# Agregar etiquetas y título\n",
    "plt.title(\"Grafico de la Elipse y Rectángulo Envoltorio\")\n",
    "plt.xlabel('x')\n",
    "plt.ylabel('y')\n",
    "\n",
    "# Mostrar el gráfico\n",
    "plt.grid(True)\n",
    "plt.axhline(0, color='black',linewidth=0.5)\n",
    "plt.axvline(0, color='black',linewidth=0.5)\n",
    "plt.show()"
   ]
  },
  {
   "cell_type": "markdown",
   "id": "c2b6e604",
   "metadata": {},
   "source": [
    "#### Conclusión de resultados\n"
   ]
  },
  {
   "cell_type": "markdown",
   "id": "c940adf8",
   "metadata": {},
   "source": [
    "Los resultados del código demuestran cómo la técnica de Monte Carlo puede utilizarse para estimar el área de una región definida por una desigualdad complicada. A medida que se aumenta el número de términos utilizados en la aproximación, la precisión de la estimación mejora y se acerca al valor real del área. Esto ilustra la utilidad de esta técnica en la aproximación de áreas en situaciones donde no es posible calcularlas de manera analítica."
   ]
  },
  {
   "cell_type": "code",
   "execution_count": null,
   "id": "a2602e55",
   "metadata": {},
   "outputs": [],
   "source": []
  }
 ],
 "metadata": {
  "kernelspec": {
   "display_name": "Python 3 (ipykernel)",
   "language": "python",
   "name": "python3"
  },
  "language_info": {
   "codemirror_mode": {
    "name": "ipython",
    "version": 3
   },
   "file_extension": ".py",
   "mimetype": "text/x-python",
   "name": "python",
   "nbconvert_exporter": "python",
   "pygments_lexer": "ipython3",
   "version": "3.11.4"
  }
 },
 "nbformat": 4,
 "nbformat_minor": 5
}
